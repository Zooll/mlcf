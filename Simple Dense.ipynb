{
 "cells": [
  {
   "cell_type": "code",
   "execution_count": 27,
   "metadata": {},
   "outputs": [],
   "source": [
    "%matplotlib notebook\n",
    "import numpy as np\n",
    "import matplotlib.pyplot as plt\n",
    "import pandas\n",
    "import math\n",
    "import os\n",
    "from keras.models import Sequential\n",
    "from keras.layers import Dense\n",
    "from keras.layers import LSTM\n",
    "from keras.layers import GRU\n",
    "from sklearn.preprocessing import MinMaxScaler\n",
    "from sklearn.metrics import mean_squared_error\n",
    "from keras.utils import plot_model\n",
    "from biosppy.signals import ecg\n",
    "# fix random seed for reproducibility\n",
    "np.random.seed(7)"
   ]
  },
  {
   "cell_type": "code",
   "execution_count": 2,
   "metadata": {},
   "outputs": [],
   "source": [
    "DATA_TRAIN_PATH = 'blood-pressure-estimation-data/data_train'\n",
    "DATA_TRAIN_ANS_PATH = 'blood-pressure-estimation-data/data_train.ans'\n",
    "DATA_TEST1_PATH = 'blood-pressure-estimation-data/data_test1_blank'\n",
    "DATA_TEST2_PATH = 'blood-pressure-estimation-data/data_test2_blank'"
   ]
  },
  {
   "cell_type": "code",
   "execution_count": 306,
   "metadata": {},
   "outputs": [],
   "source": [
    "def load_answers(path):\n",
    "    sbp_dbp = {}\n",
    "    with open(path, 'r') as f:\n",
    "        for line in f:\n",
    "            vals = line[:-1].split(',')\n",
    "            sbp_dbp[vals[0]] = (float(vals[1]), float(vals[2]))\n",
    "    return sbp_dbp\n",
    "\n",
    "sbp_dbp = load_answers(DATA_TRAIN_ANS_PATH)\n",
    "\n",
    "def read_ppg_ecg(filename):\n",
    "    ppg = []\n",
    "    ecg = []\n",
    "    with open(filename, 'r') as f:\n",
    "        for id, line in enumerate(f):\n",
    "            vals = line[:-1].split(',')\n",
    "            if id == 0:\n",
    "                sbp = float(vals[0])\n",
    "                dbp = float(vals[1])\n",
    "                continue\n",
    "            ppg.append(float(vals[0]))\n",
    "            ecg.append(float(vals[1]))\n",
    "    return ppg[2000:], ecg[2000:], sbp, dbp"
   ]
  },
  {
   "cell_type": "code",
   "execution_count": 620,
   "metadata": {},
   "outputs": [],
   "source": [
    "def prepareTrain():\n",
    "    files = list(sbp_dbp.keys())\n",
    "    X = []\n",
    "    Y = []\n",
    "    cnt = 0\n",
    "    for file in files:\n",
    "        try:\n",
    "            ppg_l, ecg_l, _, _ = read_ppg_ecg(DATA_TRAIN_PATH + '/' + file)\n",
    "            out_ecg = ecg.ecg(signal=np.array(ecg_l, dtype=float), sampling_rate=500., show=False)\n",
    "            out_ppg = ecg.ecg(signal=np.array(ppg_l, dtype=float), sampling_rate=500., show=False)\n",
    "            \n",
    "            X.append(ppg_l[:10000]+ ecg_l[:10000])\n",
    "            Y.append([sbp_dbp[file][0], sbp_dbp[file][1]])\n",
    "            '''\n",
    "            ppg_peaks = out_ppg['rpeaks']\n",
    "            ecg_peaks = out_ecg['rpeaks']\n",
    "            \n",
    "            if abs(len(ppg_peaks) - len(ecg_peaks)) < 1:\n",
    "                min_len = min(len(ppg_peaks), len(ecg_peaks))\n",
    "                dp = ppg_peaks[:min_len] - ecg_peaks[:min_len]\n",
    "                hr = out_ecg['heart_rate']\n",
    "                X.append([np.average(np.abs(dp)), np.max(np.abs(dp)), np.min(np.abs(dp)), np.average(hr), np.max(hr), np.min(hr)])\n",
    "                Y.append([sbp_dbp[file][0], sbp_dbp[file][1]])\n",
    "            '''\n",
    "        except Exception as v:\n",
    "            print(v)\n",
    "            #break\n",
    "    return X, Y"
   ]
  },
  {
   "cell_type": "code",
   "execution_count": 621,
   "metadata": {},
   "outputs": [
    {
     "name": "stdout",
     "output_type": "stream",
     "text": [
      "Not enough beats to compute heart rate.\n",
      "Not enough beats to compute heart rate.\n",
      "Not enough beats to compute heart rate.\n"
     ]
    }
   ],
   "source": [
    "X, Y = prepareTrain()\n",
    "y = np.array(Y)"
   ]
  },
  {
   "cell_type": "code",
   "execution_count": 594,
   "metadata": {},
   "outputs": [
    {
     "data": {
      "text/plain": [
       "891"
      ]
     },
     "execution_count": 594,
     "metadata": {},
     "output_type": "execute_result"
    }
   ],
   "source": [
    "len(X)"
   ]
  },
  {
   "cell_type": "code",
   "execution_count": 649,
   "metadata": {},
   "outputs": [],
   "source": [
    "learn_size = 800\n",
    "X_train, X_test = X[:learn_size], X[learn_size:]\n",
    "Y_train, Y_test = y[:learn_size], y[learn_size:]"
   ]
  },
  {
   "cell_type": "code",
   "execution_count": 643,
   "metadata": {},
   "outputs": [
    {
     "data": {
      "text/plain": [
       "391"
      ]
     },
     "execution_count": 643,
     "metadata": {},
     "output_type": "execute_result"
    }
   ],
   "source": [
    "len(X_test)"
   ]
  },
  {
   "cell_type": "code",
   "execution_count": 661,
   "metadata": {},
   "outputs": [
    {
     "data": {
      "text/plain": [
       "105.45026178010471"
      ]
     },
     "execution_count": 661,
     "metadata": {},
     "output_type": "execute_result"
    }
   ],
   "source": [
    "from sklearn.ensemble import RandomForestRegressor\n",
    "from sklearn.linear_model import LinearRegression\n",
    "from sklearn.metrics import mean_squared_error\n",
    "\n",
    "clf = RandomForestRegressor(max_depth=2, random_state=17, n_estimators=10, n_jobs=-1)\n",
    "clf.fit(X_train, Y_train[:, 1])\n",
    "mean_squared_error(Y_test[:,1], list(map(round, clf.predict(X_test))))"
   ]
  },
  {
   "cell_type": "code",
   "execution_count": 667,
   "metadata": {},
   "outputs": [
    {
     "data": {
      "text/plain": [
       "451.3979057591623"
      ]
     },
     "execution_count": 667,
     "metadata": {},
     "output_type": "execute_result"
    }
   ],
   "source": [
    "clf2 = RandomForestRegressor(max_depth=20, random_state=42, n_estimators=20, n_jobs=8)\n",
    "clf2.fit(X_train, Y_train[:, 0])\n",
    "mean_squared_error(Y_test[:,0], list(map(round, clf2.predict(X_test)))) "
   ]
  },
  {
   "cell_type": "code",
   "execution_count": 654,
   "metadata": {},
   "outputs": [],
   "source": [
    "def prepare_test():\n",
    "    files = os.listdir(DATA_TEST1_PATH)\n",
    "    X = []\n",
    "    cnt = 0\n",
    "    filled_tests = []\n",
    "    prepeared_tests = []\n",
    "    for file in files:\n",
    "        ppg_l, ecg_l, sbp, dbp = read_ppg_ecg(DATA_TEST1_PATH + '/' + file)\n",
    "        \n",
    "        if (sbp == 0 and dbp == 0):\n",
    "            out_ecg = ecg.ecg(signal=np.array(ecg_l, dtype=float), sampling_rate=500., show=False)\n",
    "            out_ppg = ecg.ecg(signal=np.array(ppg_l, dtype=float), sampling_rate=500., show=False)\n",
    "            X.append(ppg_l[:10000]+ ecg_l[:10000])\n",
    "            '''\n",
    "            ppg_peaks = out_ppg['rpeaks']\n",
    "            ecg_peaks = out_ecg['rpeaks']\n",
    "            #if abs(len(ppg_peaks) - len(ecg_peaks)) < 5:\n",
    "            min_len = min(len(ppg_peaks), len(ecg_peaks))\n",
    "            dp = ppg_peaks[:min_len] - ecg_peaks[:min_len]\n",
    "            hr = out_ecg['heart_rate']\n",
    "            X.append([np.average(np.abs(dp)), np.max(np.abs(dp)), np.min(np.abs(dp)), np.average(hr), np.max(hr), np.min(hr)])\n",
    "            '''\n",
    "            prepeared_tests.append(file)\n",
    "        else:\n",
    "            filled_tests.append((file, sbp, dbp))\n",
    "    return X, filled_tests, prepeared_tests"
   ]
  },
  {
   "cell_type": "code",
   "execution_count": 694,
   "metadata": {},
   "outputs": [],
   "source": [
    "from keras.models import Sequential\n",
    "from keras.layers import Dense\n",
    "from keras.wrappers.scikit_learn import KerasRegressor\n",
    "from sklearn.model_selection import cross_val_score\n",
    "from sklearn.model_selection import KFold\n",
    "from sklearn.preprocessing import StandardScaler\n",
    "from sklearn.pipeline import Pipeline\n",
    "def baseline_model():\n",
    "    model = Sequential()\n",
    "    model.add(Dense(10, input_dim=20000, activation='relu'))\n",
    "    model.add(Dense(10, activation='relu'))\n",
    "    model.add(Dense(1, activation='linear'))\n",
    "    model.compile(loss='mse', optimizer='adam')\n",
    "    return model"
   ]
  },
  {
   "cell_type": "code",
   "execution_count": 692,
   "metadata": {},
   "outputs": [],
   "source": [
    "model = {}"
   ]
  },
  {
   "cell_type": "code",
   "execution_count": null,
   "metadata": {},
   "outputs": [
    {
     "name": "stdout",
     "output_type": "stream",
     "text": [
      "Epoch 1/20\n"
     ]
    }
   ],
   "source": [
    "model = baseline_model()\n",
    "model.fit(np.array(X_train).reshape((len(X_train), 20000)), Y_train[:,0], epochs=20, batch_size=20, verbose = 1)"
   ]
  },
  {
   "cell_type": "code",
   "execution_count": 675,
   "metadata": {},
   "outputs": [
    {
     "data": {
      "text/plain": [
       "9347.167539267015"
      ]
     },
     "execution_count": 675,
     "metadata": {},
     "output_type": "execute_result"
    }
   ],
   "source": [
    "mean_squared_error(list(map(round, model.predict(np.array(X_test).reshape((len(X_test),20000 )))[:,0])), Y_test[:,0])"
   ]
  },
  {
   "cell_type": "code",
   "execution_count": 588,
   "metadata": {},
   "outputs": [
    {
     "data": {
      "text/plain": [
       "<keras.callbacks.History at 0x7f653d811080>"
      ]
     },
     "execution_count": 588,
     "metadata": {},
     "output_type": "execute_result"
    }
   ],
   "source": [
    "model2 = baseline_model()\n",
    "model2.fit(np.array(X_train).reshape((len(X_train), 6)), Y_train[:,1], epochs=100, batch_size=50, verbose = 0)"
   ]
  },
  {
   "cell_type": "code",
   "execution_count": 589,
   "metadata": {},
   "outputs": [
    {
     "data": {
      "text/plain": [
       "4.2374010828821325"
      ]
     },
     "execution_count": 589,
     "metadata": {},
     "output_type": "execute_result"
    }
   ],
   "source": [
    "mean_squared_error(list(map(round, model2.predict(np.array(X_test).reshape((len(X_test), 6)))[:,0])), Y_test[:,1]) / len(X_test)"
   ]
  },
  {
   "cell_type": "code",
   "execution_count": 655,
   "metadata": {},
   "outputs": [],
   "source": [
    "X, ft, pt = prepare_test()"
   ]
  },
  {
   "cell_type": "code",
   "execution_count": 668,
   "metadata": {},
   "outputs": [
    {
     "name": "stdout",
     "output_type": "stream",
     "text": [
      "subj29log1897.csv,95,61\n",
      "subj13log802.csv,137,75\n",
      "subj29log1895.csv,91,61\n",
      "subj12log731.csv,107,80\n",
      "subj13log796.csv,137,67\n",
      "subj12log729.csv,106,72\n",
      "subj29log1903.csv,102,56\n",
      "subj29log1906.csv,93,62\n",
      "subj12log737.csv,109,81\n",
      "subj8log461.csv,106,64\n",
      "subj12log736.csv,113,78\n",
      "subj15log939.csv,106,76\n",
      "subj29log1893.csv,100,55\n",
      "subj15log928.csv,106,62\n",
      "subj8log466.csv,122,62\n",
      "subj12log733.csv,102,77\n",
      "subj15log941.csv,118,84\n",
      "subj13log799.csv,142,73\n",
      "subj13log804.csv,133,71\n",
      "subj19log1189.csv,133,91\n",
      "subj15log940.csv,100,71\n",
      "subj13log803.csv,144,75\n",
      "subj13log801.csv,126,59\n",
      "subj12log740.csv,120,79\n",
      "subj19log1187.csv,122,79\n",
      "subj19log1190.csv,125,77\n",
      "subj29log1892.csv,88,50\n",
      "subj8log462.csv,109,61\n",
      "subj12log732.csv,120,79\n",
      "subj15log938.csv,106,72\n",
      "subj8log456.csv,102,55\n",
      "subj15log931.csv,106,73\n",
      "subj13log795.csv,131,70\n",
      "subj13log800.csv,137,71\n",
      "subj29log1900.csv,86,54\n",
      "subj15log932.csv,109,77\n",
      "subj13log797.csv,143,79\n",
      "subj15log927.csv,104,75\n",
      "subj29log1901.csv,101,59\n",
      "subj8log464.csv,118,62\n",
      "subj15log930.csv,107,77\n",
      "subj8log460.csv,96,48\n",
      "subj29log1894.csv,100,63\n",
      "subj12log728.csv,100,67\n",
      "subj8log459.csv,131,67\n",
      "subj15log929.csv,110,92\n",
      "subj29log1899.csv,95,65\n",
      "subj8log467.csv,106,58\n",
      "subj8log458.csv,135,76\n",
      "subj15log933.csv,102,74\n",
      "subj29log1904.csv,98,57\n",
      "subj29log1905.csv,88,51\n",
      "subj8log457.csv,110,56\n",
      "subj12log734.csv,109,75\n",
      "subj19log1188.csv,125,84\n",
      "subj29log1898.csv,98,57\n",
      "subj29log1896.csv,101,59\n",
      "subj8log465.csv,118,65\n",
      "subj29log1902.csv,86,45\n",
      "subj15log937.csv,106,66\n",
      "subj8log463.csv,98,53\n",
      "subj15log936.csv,110,65\n",
      "subj19log1186.csv,117,80\n",
      "subj12log739.csv,103,73\n",
      "subj13log798.csv,144,72\n",
      "subj12log738.csv,101,73\n",
      "subj15log935.csv,116,86\n",
      "subj12log735.csv,110,78\n",
      "subj15log934.csv,121,81\n",
      "subj12log730.csv,92,60\n",
      "subj15log995.csv,112,66\n",
      "subj12log748.csv,108,66\n",
      "subj12log746.csv,120,69\n",
      "subj13log832.csv,124,64\n",
      "subj13log831.csv,125,65\n",
      "subj29log1922.csv,131,66\n",
      "subj19log1214.csv,106,66\n",
      "subj19log1191.csv,107,65\n",
      "subj12log788.csv,117,64\n",
      "subj15log968.csv,124,68\n",
      "subj19log1205.csv,119,67\n",
      "subj12log769.csv,109,66\n",
      "subj12log761.csv,103,64\n",
      "subj15log955.csv,109,65\n",
      "subj29log1934.csv,129,68\n",
      "subj8log483.csv,124,65\n",
      "subj29log1945.csv,121,65\n",
      "subj29log1924.csv,108,66\n",
      "subj8log472.csv,115,66\n",
      "subj13log834.csv,112,65\n",
      "subj19log1210.csv,107,65\n",
      "subj8log493.csv,118,67\n",
      "subj15log989.csv,116,66\n",
      "subj12log759.csv,126,64\n",
      "subj15log946.csv,120,65\n",
      "subj13log816.csv,116,65\n",
      "subj15log978.csv,126,67\n",
      "subj15log949.csv,120,68\n",
      "subj29log1933.csv,124,67\n",
      "subj29log1949.csv,115,65\n",
      "subj29log1911.csv,112,69\n",
      "subj15log966.csv,110,70\n",
      "subj15log962.csv,116,70\n",
      "subj15log947.csv,128,66\n",
      "subj12log777.csv,106,68\n",
      "subj15log998.csv,121,64\n",
      "subj8log476.csv,122,67\n",
      "subj19log1192.csv,114,67\n",
      "subj19log1203.csv,113,67\n",
      "subj15log952.csv,118,66\n",
      "subj13log828.csv,120,65\n",
      "subj29log1912.csv,104,64\n",
      "subj8log507.csv,132,67\n",
      "subj8log513.csv,129,67\n",
      "subj13log845.csv,120,67\n",
      "subj29log1960.csv,107,67\n",
      "subj13log840.csv,129,66\n",
      "subj29log1952.csv,118,69\n",
      "subj12log741.csv,114,64\n",
      "subj8log511.csv,121,66\n",
      "subj29log1941.csv,113,67\n",
      "subj29log1928.csv,119,69\n",
      "subj13log837.csv,116,66\n",
      "subj29log1951.csv,110,65\n",
      "subj12log787.csv,114,65\n",
      "subj12log762.csv,118,65\n",
      "subj29log1942.csv,119,70\n",
      "subj29log1923.csv,117,70\n",
      "subj15log945.csv,117,67\n",
      "subj15log963.csv,120,67\n",
      "subj12log749.csv,110,66\n",
      "subj12log765.csv,107,67\n",
      "subj19log1209.csv,112,68\n",
      "subj8log514.csv,130,68\n",
      "subj29log1955.csv,128,67\n",
      "subj13log818.csv,121,67\n",
      "subj13log835.csv,117,65\n",
      "subj8log498.csv,118,67\n",
      "subj13log830.csv,113,68\n",
      "subj29log1932.csv,126,64\n",
      "subj13log809.csv,114,71\n",
      "subj19log1199.csv,113,66\n",
      "subj8log480.csv,121,65\n",
      "subj29log1929.csv,117,67\n",
      "subj29log1918.csv,105,66\n",
      "subj8log481.csv,123,65\n",
      "subj8log490.csv,118,64\n",
      "subj29log1963.csv,122,65\n",
      "subj8log468.csv,111,67\n",
      "subj13log843.csv,121,67\n",
      "subj29log1964.csv,118,66\n",
      "subj12log775.csv,108,69\n",
      "subj12log770.csv,120,65\n",
      "subj29log1936.csv,112,67\n",
      "subj15log960.csv,116,65\n",
      "subj19log1212.csv,107,67\n",
      "subj8log505.csv,130,66\n",
      "subj15log986.csv,126,66\n",
      "subj8log477.csv,107,65\n",
      "subj12log773.csv,116,64\n",
      "subj15log943.csv,120,64\n",
      "subj29log1907.csv,124,68\n",
      "subj8log499.csv,119,65\n",
      "subj13log819.csv,127,65\n",
      "subj29log1920.csv,121,71\n",
      "subj12log790.csv,115,64\n",
      "subj15log987.csv,121,67\n",
      "subj13log833.csv,123,70\n",
      "subj8log492.csv,118,65\n",
      "subj15log970.csv,115,66\n",
      "subj29log1913.csv,114,68\n",
      "subj13log841.csv,115,65\n",
      "subj15log999.csv,109,64\n",
      "subj15log957.csv,106,65\n",
      "subj15log961.csv,113,67\n",
      "subj15log976.csv,111,64\n",
      "subj15log953.csv,112,68\n",
      "subj12log793.csv,119,67\n",
      "subj12log784.csv,112,66\n",
      "subj19log1197.csv,120,66\n",
      "subj29log1914.csv,111,70\n",
      "subj12log756.csv,114,64\n",
      "subj15log971.csv,119,68\n",
      "subj29log1948.csv,129,67\n",
      "subj19log1193.csv,109,67\n",
      "subj8log500.csv,128,67\n",
      "subj8log491.csv,121,66\n",
      "subj15log951.csv,117,65\n",
      "subj15log959.csv,111,64\n",
      "subj13log813.csv,129,69\n",
      "subj12log754.csv,111,66\n",
      "subj8log502.csv,118,64\n",
      "subj12log771.csv,103,66\n",
      "subj12log743.csv,110,66\n",
      "subj29log1961.csv,128,68\n",
      "subj12log768.csv,111,67\n",
      "subj29log1943.csv,108,61\n",
      "subj8log494.csv,120,65\n",
      "subj19log1194.csv,107,64\n",
      "subj15log990.csv,124,64\n",
      "subj29log1909.csv,113,67\n",
      "subj12log766.csv,112,65\n",
      "subj29log1959.csv,116,68\n",
      "subj12log767.csv,117,67\n",
      "subj13log810.csv,116,67\n",
      "subj8log506.csv,116,64\n",
      "subj29log1938.csv,120,66\n",
      "subj15log980.csv,117,65\n",
      "subj13log808.csv,119,67\n",
      "subj29log1957.csv,119,67\n",
      "subj15log1001.csv,109,66\n",
      "subj29log1968.csv,123,68\n",
      "subj12log792.csv,107,66\n",
      "subj12log763.csv,113,65\n",
      "subj12log774.csv,107,64\n",
      "subj12log789.csv,112,65\n",
      "subj13log839.csv,120,68\n",
      "subj29log1965.csv,114,68\n",
      "subj8log471.csv,123,66\n",
      "subj29log1935.csv,130,70\n",
      "subj12log776.csv,117,65\n",
      "subj15log981.csv,120,67\n",
      "subj19log1202.csv,116,67\n",
      "subj15log991.csv,111,66\n",
      "subj19log1198.csv,110,66\n",
      "subj15log979.csv,125,67\n",
      "subj19log1195.csv,106,67\n",
      "subj29log1940.csv,126,64\n",
      "subj15log1000.csv,108,65\n",
      "subj8log485.csv,116,66\n",
      "subj8log488.csv,121,65\n",
      "subj19log1196.csv,106,66\n",
      "subj12log772.csv,110,68\n",
      "subj12log780.csv,111,63\n",
      "subj12log753.csv,115,64\n",
      "subj29log1925.csv,116,64\n",
      "subj29log1930.csv,113,67\n",
      "subj15log965.csv,124,66\n",
      "subj19log1211.csv,114,68\n",
      "subj13log838.csv,127,68\n",
      "subj13log846.csv,114,69\n",
      "subj15log954.csv,108,67\n",
      "subj12log785.csv,104,65\n",
      "subj13log811.csv,106,63\n",
      "subj15log969.csv,106,67\n",
      "subj15log984.csv,106,67\n",
      "subj29log1937.csv,115,67\n",
      "subj15log993.csv,111,65\n",
      "subj29log1910.csv,116,69\n",
      "subj13log821.csv,118,67\n",
      "subj13log823.csv,117,67\n",
      "subj8log512.csv,120,64\n",
      "subj8log489.csv,115,65\n",
      "subj12log747.csv,123,66\n",
      "subj15log975.csv,119,68\n",
      "subj12log783.csv,112,67\n",
      "subj13log814.csv,124,68\n",
      "subj13log820.csv,122,65\n",
      "subj13log807.csv,125,68\n",
      "subj8log479.csv,123,63\n",
      "subj8log474.csv,128,68\n",
      "subj8log497.csv,117,64\n",
      "subj12log751.csv,112,65\n",
      "subj13log844.csv,119,63\n",
      "subj15log948.csv,114,64\n",
      "subj29log1939.csv,118,67\n",
      "subj13log829.csv,127,67\n",
      "subj8log509.csv,120,66\n",
      "subj29log1970.csv,108,67\n",
      "subj12log744.csv,112,66\n",
      "subj13log842.csv,126,69\n",
      "subj8log484.csv,115,66\n",
      "subj29log1954.csv,123,66\n",
      "subj12log750.csv,109,67\n",
      "subj29log1919.csv,120,67\n",
      "subj12log764.csv,107,65\n",
      "subj12log745.csv,104,66\n",
      "subj29log1927.csv,107,65\n",
      "subj29log1958.csv,115,66\n",
      "subj29log1944.csv,116,66\n",
      "subj29log1908.csv,116,64\n",
      "subj12log757.csv,113,63\n",
      "subj29log1915.csv,124,65\n",
      "subj15log956.csv,96,63\n",
      "subj13log805.csv,122,65\n",
      "subj15log972.csv,114,65\n",
      "subj19log1213.csv,108,65\n",
      "subj15log982.csv,118,67\n",
      "subj12log778.csv,114,67\n",
      "subj8log496.csv,120,67\n",
      "subj15log994.csv,126,69\n",
      "subj12log781.csv,106,67\n",
      "subj29log1947.csv,120,65\n",
      "subj15log942.csv,117,67\n",
      "subj8log508.csv,125,65\n",
      "subj13log815.csv,117,65\n",
      "subj29log1921.csv,114,67\n",
      "subj8log487.csv,125,65\n",
      "subj12log779.csv,106,64\n",
      "subj29log1962.csv,118,66\n",
      "subj12log786.csv,122,64\n",
      "subj8log501.csv,122,67\n",
      "subj8log515.csv,116,68\n",
      "subj15log944.csv,117,64\n",
      "subj15log985.csv,98,63\n",
      "subj13log827.csv,120,67\n",
      "subj15log964.csv,116,64\n",
      "subj8log469.csv,123,67\n",
      "subj29log1917.csv,113,66\n",
      "subj15log997.csv,132,66\n",
      "subj29log1969.csv,113,64\n",
      "subj19log1201.csv,109,67\n",
      "subj15log958.csv,116,64\n",
      "subj29log1946.csv,108,64\n",
      "subj12log742.csv,109,67\n",
      "subj15log992.csv,124,67\n",
      "subj29log1931.csv,119,68\n",
      "subj12log755.csv,118,64\n",
      "subj29log1966.csv,124,64\n",
      "subj19log1204.csv,102,66\n",
      "subj12log782.csv,116,65\n",
      "subj13log826.csv,117,63\n",
      "subj15log973.csv,122,65\n",
      "subj12log758.csv,108,66\n",
      "subj8log503.csv,113,68\n",
      "subj13log812.csv,119,65\n",
      "subj19log1206.csv,112,66\n",
      "subj15log996.csv,117,64\n",
      "subj8log486.csv,119,66\n",
      "subj15log983.csv,120,66\n",
      "subj8log504.csv,130,68\n",
      "subj13log806.csv,118,66\n",
      "subj19log1207.csv,107,67\n",
      "subj29log1926.csv,108,66\n",
      "subj8log478.csv,126,64\n",
      "subj29log1956.csv,114,64\n",
      "subj8log470.csv,116,66\n",
      "subj29log1916.csv,110,67\n",
      "subj13log825.csv,118,65\n",
      "subj12log760.csv,111,67\n",
      "subj15log967.csv,120,67\n",
      "subj15log974.csv,112,65\n",
      "subj12log752.csv,109,64\n",
      "subj13log822.csv,127,64\n",
      "subj19log1208.csv,117,68\n",
      "subj12log791.csv,108,65\n",
      "subj29log1950.csv,124,68\n",
      "subj12log794.csv,116,67\n",
      "subj13log817.csv,125,65\n",
      "subj19log1200.csv,110,67\n",
      "subj8log475.csv,114,65\n",
      "subj29log1953.csv,115,66\n",
      "subj15log988.csv,117,65\n",
      "subj29log1967.csv,117,63\n",
      "subj13log824.csv,123,67\n",
      "subj8log473.csv,129,66\n",
      "subj8log495.csv,118,66\n",
      "subj8log482.csv,113,64\n",
      "subj8log510.csv,114,66\n",
      "subj13log836.csv,123,67\n",
      "subj15log950.csv,113,64\n",
      "subj15log977.csv,109,67\n"
     ]
    }
   ],
   "source": [
    "sbp = list(map(round, clf2.predict(X)))\n",
    "dbp = list(map(round, clf.predict(X)))\n",
    "\n",
    "#sbp = list(map(round, model.predict(np.array(X).reshape((len(X), 6)))[:,0]))\n",
    "#dbp = list(map(round, model2.predict(np.array(X).reshape((len(X), 6)))[:,0]))\n",
    "\n",
    "for v in ft:\n",
    "    print(v[0], int(v[1]), int(v[2]), sep = ',')\n",
    "for i, v in enumerate(pt):\n",
    "    print(v, int(sbp[i]), int(dbp[i]), sep = ',')"
   ]
  }
 ],
 "metadata": {
  "kernelspec": {
   "display_name": "tf",
   "language": "python",
   "name": "tf"
  },
  "language_info": {
   "codemirror_mode": {
    "name": "ipython",
    "version": 3
   },
   "file_extension": ".py",
   "mimetype": "text/x-python",
   "name": "python",
   "nbconvert_exporter": "python",
   "pygments_lexer": "ipython3",
   "version": "3.6.4"
  }
 },
 "nbformat": 4,
 "nbformat_minor": 2
}
